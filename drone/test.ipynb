{
 "cells": [
  {
   "cell_type": "code",
   "execution_count": 47,
   "metadata": {
    "collapsed": true
   },
   "outputs": [
    {
     "data": {
      "text/html": [
       "        <script type=\"text/javascript\">\n",
       "        window.PlotlyConfig = {MathJaxConfig: 'local'};\n",
       "        if (window.MathJax) {MathJax.Hub.Config({SVG: {font: \"STIX-Web\"}});}\n",
       "        if (typeof require !== 'undefined') {\n",
       "        require.undef(\"plotly\");\n",
       "        requirejs.config({\n",
       "            paths: {\n",
       "                'plotly': ['https://cdn.plot.ly/plotly-latest.min']\n",
       "            }\n",
       "        });\n",
       "        require(['plotly'], function(Plotly) {\n",
       "            window._Plotly = Plotly;\n",
       "        });\n",
       "        }\n",
       "        </script>\n",
       "        "
      ],
      "text/plain": [
       "        <script type=\"text/javascript\">\n",
       "        window.PlotlyConfig = {MathJaxConfig: 'local'};\n",
       "        if (window.MathJax) {MathJax.Hub.Config({SVG: {font: \"STIX-Web\"}});}\n",
       "        if (typeof require !== 'undefined') {\n",
       "        require.undef(\"plotly\");\n",
       "        requirejs.config({\n",
       "            paths: {\n",
       "                'plotly': ['https://cdn.plot.ly/plotly-latest.min']\n",
       "            }\n",
       "        });\n",
       "        require(['plotly'], function(Plotly) {\n",
       "            window._Plotly = Plotly;\n",
       "        });\n",
       "        }\n",
       "        </script>\n",
       "        "
      ]
     },
     "execution_count": 0,
     "metadata": {},
     "output_type": "execute_result"
    }
   ],
   "source": [
    "import numpy as np\n",
    "import drone\n",
    "import importlib\n",
    "import plotly\n",
    "\n",
    "o = importlib.reload(drone)\n",
    "plotly.offline.init_notebook_mode(connected=True)\n"
   ]
  },
  {
   "cell_type": "code",
   "execution_count": 48,
   "metadata": {},
   "outputs": [
    {
     "data": {
      "text/plain": [
       "'temp-plot.html'"
      ]
     },
     "execution_count": 48,
     "metadata": {},
     "output_type": "execute_result"
    }
   ],
   "source": [
    "\n",
    "n_samples = 5000\n",
    "dt = 0.01\n",
    "\n",
    "t = np.arange(0, n_samples * dt, dt)\n",
    "x = np.empty((12, n_samples))\n",
    "x[:] = np.nan\n",
    "#u = 0 * np.sin(t) * np.ones((4, n_samples))\n",
    "u = np.ones(4).reshape(-1, 1) @ np.linspace(2, 4, n_samples).reshape(1, -1)\n",
    "u[:, 3000:] = 0.\n",
    "\n",
    "x[:, 0] = np.zeros(12)\n",
    "x[2, 0] = 5.\n",
    "\n",
    "for i in range(1, n_samples):\n",
    "    x[:, i] = drone.discrete_state_space(\n",
    "        x[:, i-1],\n",
    "        u[:, i-1],\n",
    "        dt,\n",
    "    )\n",
    "\n",
    "data_1 = [\n",
    "    plotly.graph_objs.Scatter(x=t, y=x[0, :].squeeze(), name=\"X\"),\n",
    "    plotly.graph_objs.Scatter(x=t, y=x[1, :].squeeze(), name=\"Y\"),\n",
    "    plotly.graph_objs.Scatter(x=t, y=x[2, :].squeeze(), name=\"Z\"),\n",
    "]\n",
    "\n",
    "data_2 = [\n",
    "    plotly.graph_objs.Scatter(x=t, y=x[3, :].squeeze(), name=\"Roll\"),\n",
    "    plotly.graph_objs.Scatter(x=t, y=x[4, :].squeeze(), name=\"Pitch\"),\n",
    "    plotly.graph_objs.Scatter(x=t, y=x[5, :].squeeze(), name=\"Yaw\"),\n",
    "]\n",
    "\n",
    "fig = plotly.subplots.make_subplots(rows=1, cols=2)\n",
    "for d in data_1:\n",
    "    fig.add_trace(d, row=1, col=1)\n",
    "for d in data_2:\n",
    "    fig.add_trace(d, row=1, col=2)\n",
    "plotly.offline.plot(fig)\n",
    "\n",
    "data = [plotly.graph_objs.Scatter(x=t, y=u)]\n",
    "plotly.offline.plot(data)\n"
   ]
  },
  {
   "cell_type": "code",
   "execution_count": 14,
   "metadata": {},
   "outputs": [
    {
     "ename": "TypeError",
     "evalue": "data type not understood",
     "traceback": [
      "\u001b[0;31m---------------------------------------------------------------------------\u001b[0m",
      "\u001b[0;31mTypeError\u001b[0m                                 Traceback (most recent call last)",
      "\u001b[0;32m<ipython-input-14-dd416a746c36>\u001b[0m in \u001b[0;36m<module>\u001b[0;34m\u001b[0m\n\u001b[1;32m      9\u001b[0m \u001b[0mu\u001b[0m\u001b[0;34m[\u001b[0m\u001b[0;34m:\u001b[0m\u001b[0;34m]\u001b[0m \u001b[0;34m=\u001b[0m \u001b[0mnp\u001b[0m\u001b[0;34m.\u001b[0m\u001b[0mnan\u001b[0m\u001b[0;34m\u001b[0m\u001b[0;34m\u001b[0m\u001b[0m\n\u001b[1;32m     10\u001b[0m \u001b[0;34m\u001b[0m\u001b[0m\n\u001b[0;32m---> 11\u001b[0;31m \u001b[0mtarget\u001b[0m \u001b[0;34m=\u001b[0m \u001b[0mnp\u001b[0m\u001b[0;34m.\u001b[0m\u001b[0mzeros\u001b[0m\u001b[0;34m(\u001b[0m\u001b[0;36m6\u001b[0m\u001b[0;34m,\u001b[0m \u001b[0mn_samples\u001b[0m\u001b[0;34m)\u001b[0m\u001b[0;34m\u001b[0m\u001b[0;34m\u001b[0m\u001b[0m\n\u001b[0m\u001b[1;32m     12\u001b[0m \u001b[0mtarget\u001b[0m\u001b[0;34m[\u001b[0m\u001b[0;36m2\u001b[0m\u001b[0;34m,\u001b[0m \u001b[0;36m100\u001b[0m\u001b[0;34m:\u001b[0m\u001b[0;34m]\u001b[0m \u001b[0;34m=\u001b[0m \u001b[0;36m5\u001b[0m\u001b[0;34m\u001b[0m\u001b[0;34m\u001b[0m\u001b[0m\n\u001b[1;32m     13\u001b[0m \u001b[0;34m\u001b[0m\u001b[0m\n",
      "\u001b[0;31mTypeError\u001b[0m: data type not understood"
     ],
     "output_type": "error"
    }
   ],
   "source": [
    "\n",
    "n_samples = 5000\n",
    "dt = 0.01\n",
    "\n",
    "t = np.arange(0, n_samples * dt, dt)\n",
    "x = np.empty((12, n_samples))\n",
    "x[:] = np.nan\n",
    "u = np.empty((4, n_samples))\n",
    "u[:] = np.nan\n",
    "\n",
    "target = np.zeros(6, n_samples)\n",
    "target[2, 100:] = 5\n",
    "\n",
    "x[:, 0] = np.zeros(12)\n",
    "u[:, 0] = np.zeros(4)\n",
    "for i in range(1, n_samples):\n",
    "    u[:, i] = control.update(\n",
    "        x[:, i-1],\n",
    "        target[:, i],\n",
    "    )\n",
    "    x[:, i] = drone.discrete_state_space(\n",
    "        x[:, i-1],\n",
    "        u[:, i],\n",
    "        dt,\n",
    "    )\n",
    "\n",
    "data = [\n",
    "    plotly.graph_objs.Scatter(x=t, y=x[0, :].squeeze(), name=\"X\"),\n",
    "    plotly.graph_objs.Scatter(x=t, y=x[1, :].squeeze(), name=\"Y\"),\n",
    "    plotly.graph_objs.Scatter(x=t, y=x[2, :].squeeze(), name=\"Z\"),\n",
    "]\n",
    "\n",
    "data = [\n",
    "    plotly.graph_objs.Scatter(x=t, y=x[3, :].squeeze(), name=\"Roll\"),\n",
    "    plotly.graph_objs.Scatter(x=t, y=x[4, :].squeeze(), name=\"Pitch\"),\n",
    "    plotly.graph_objs.Scatter(x=t, y=x[5, :].squeeze(), name=\"Yaw\"),\n",
    "]\n",
    "\n",
    "plotly.offline.plot(data)\n"
   ]
  },
  {
   "cell_type": "code",
   "execution_count": 40,
   "metadata": {},
   "outputs": [
    {
     "data": {
      "text/plain": [
       "array([[2.        , 2.00040008, 2.00080016, ..., 3.99919984, 3.99959992,\n        4.        ],\n       [2.        , 2.00040008, 2.00080016, ..., 3.99919984, 3.99959992,\n        4.        ],\n       [2.        , 2.00040008, 2.00080016, ..., 3.99919984, 3.99959992,\n        4.        ],\n       [2.        , 2.00040008, 2.00080016, ..., 3.99919984, 3.99959992,\n        4.        ]])"
      ]
     },
     "execution_count": 40,
     "metadata": {},
     "output_type": "execute_result"
    }
   ],
   "source": [
    "u\n"
   ]
  },
  {
   "cell_type": "code",
   "execution_count": null,
   "metadata": {},
   "outputs": [],
   "source": []
  }
 ],
 "metadata": {
  "kernelspec": {
   "display_name": "Python 2",
   "language": "python",
   "name": "python2"
  },
  "language_info": {
   "codemirror_mode": {
    "name": "ipython",
    "version": 2
   },
   "file_extension": ".py",
   "mimetype": "text/x-python",
   "name": "python",
   "nbconvert_exporter": "python",
   "pygments_lexer": "ipython2",
   "version": "2.7.6"
  }
 },
 "nbformat": 4,
 "nbformat_minor": 0
}
