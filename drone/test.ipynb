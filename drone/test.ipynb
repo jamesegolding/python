{
 "cells": [
  {
   "cell_type": "code",
   "execution_count": 6,
   "metadata": {
    "collapsed": true
   },
   "outputs": [
    {
     "data": {
      "text/html": [
       "        <script type=\"text/javascript\">\n",
       "        window.PlotlyConfig = {MathJaxConfig: 'local'};\n",
       "        if (window.MathJax) {MathJax.Hub.Config({SVG: {font: \"STIX-Web\"}});}\n",
       "        if (typeof require !== 'undefined') {\n",
       "        require.undef(\"plotly\");\n",
       "        requirejs.config({\n",
       "            paths: {\n",
       "                'plotly': ['https://cdn.plot.ly/plotly-latest.min']\n",
       "            }\n",
       "        });\n",
       "        require(['plotly'], function(Plotly) {\n",
       "            window._Plotly = Plotly;\n",
       "        });\n",
       "        }\n",
       "        </script>\n",
       "        "
      ],
      "text/plain": [
       "        <script type=\"text/javascript\">\n",
       "        window.PlotlyConfig = {MathJaxConfig: 'local'};\n",
       "        if (window.MathJax) {MathJax.Hub.Config({SVG: {font: \"STIX-Web\"}});}\n",
       "        if (typeof require !== 'undefined') {\n",
       "        require.undef(\"plotly\");\n",
       "        requirejs.config({\n",
       "            paths: {\n",
       "                'plotly': ['https://cdn.plot.ly/plotly-latest.min']\n",
       "            }\n",
       "        });\n",
       "        require(['plotly'], function(Plotly) {\n",
       "            window._Plotly = Plotly;\n",
       "        });\n",
       "        }\n",
       "        </script>\n",
       "        "
      ]
     },
     "execution_count": 0,
     "metadata": {},
     "output_type": "execute_result"
    }
   ],
   "source": [
    "import numpy as np\n",
    "import drone\n",
    "import importlib\n",
    "import plotly\n",
    "\n",
    "o = importlib.reload(drone)\n",
    "plotly.offline.init_notebook_mode(connected=True)\n"
   ]
  },
  {
   "cell_type": "code",
   "execution_count": 7,
   "metadata": {},
   "outputs": [
    {
     "data": {
      "text/plain": [
       "'temp-plot.html'"
      ]
     },
     "execution_count": 7,
     "metadata": {},
     "output_type": "execute_result"
    }
   ],
   "source": [
    "\n",
    "n_samples = 1000\n",
    "dt = 0.01\n",
    "\n",
    "t = np.arange(0, n_samples * dt, dt)\n",
    "x = np.empty((12, n_samples))\n",
    "x[:] = np.nan\n",
    "u = 2 * np.sin(t) * np.ones((4, n_samples))\n",
    "\n",
    "x[:, 0] = np.zeros(12)\n",
    "x[2, 0] = 5.\n",
    "\n",
    "for i in range(1, n_samples):\n",
    "    x[:, i] = drone.discrete_state_space(\n",
    "        x[:, i-1],\n",
    "        u[:, i-1],\n",
    "        dt,\n",
    "    )\n",
    "\n",
    "data = [\n",
    "    plotly.graph_objs.Scatter(x=t, y=x[0, :].squeeze(), name=\"X\"),\n",
    "    plotly.graph_objs.Scatter(x=t, y=x[1, :].squeeze(), name=\"Y\"),\n",
    "    plotly.graph_objs.Scatter(x=t, y=x[2, :].squeeze(), name=\"Z\"),\n",
    "]\n",
    "\n",
    "plotly.offline.plot(data)"
   ]
  },
  {
   "cell_type": "code",
   "execution_count": null,
   "metadata": {},
   "outputs": [],
   "source": [
    "\n",
    "n_samples = 1000\n",
    "dt = 0.01\n",
    "\n",
    "t = np.arange(0, n_samples * dt, dt)\n",
    "x = np.empty((12, n_samples))\n",
    "x[:] = np.nan\n",
    "u = np.empty((4, n_samples))\n",
    "u[:] = np.nan\n",
    "\n",
    "target = np.zeros(6, n_samples)\n",
    "target[2, 100:] = 5\n",
    "\n",
    "x[:, 0] = np.zeros(12)\n",
    "u[:, 0] = np.zeros(4)\n",
    "for i in range(1, n_samples):\n",
    "    u[:, i] = control.update(\n",
    "        x[:, i-1],\n",
    "        target[:, i],\n",
    "    )\n",
    "    x[:, i] = drone.discrete_state_space(\n",
    "        x[:, i-1],\n",
    "        u[:, i],\n",
    "        dt,\n",
    "    )\n",
    "\n",
    "data = [\n",
    "    plotly.graph_objs.Scatter(x=t, y=x[0, :].squeeze(), name=\"X\"),\n",
    "    plotly.graph_objs.Scatter(x=t, y=x[1, :].squeeze(), name=\"Y\"),\n",
    "    plotly.graph_objs.Scatter(x=t, y=x[2, :].squeeze(), name=\"Z\"),\n",
    "]\n",
    "\n",
    "plotly.offline.plot(data)\n"
   ]
  }
 ],
 "metadata": {
  "kernelspec": {
   "display_name": "Python 2",
   "language": "python",
   "name": "python2"
  },
  "language_info": {
   "codemirror_mode": {
    "name": "ipython",
    "version": 2
   },
   "file_extension": ".py",
   "mimetype": "text/x-python",
   "name": "python",
   "nbconvert_exporter": "python",
   "pygments_lexer": "ipython2",
   "version": "2.7.6"
  }
 },
 "nbformat": 4,
 "nbformat_minor": 0
}
