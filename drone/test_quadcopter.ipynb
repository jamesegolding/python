{
 "cells": [
  {
   "cell_type": "code",
   "execution_count": 53,
   "metadata": {
    "collapsed": false
   },
   "outputs": [],
   "source": [
    "import numpy as np\n",
    "import drone\n",
    "import importlib\n",
    "import plotly\n",
    "import quaternion\n",
    "\n",
    "o = importlib.reload(drone);\n",
    "o = importlib.reload(quaternion);\n",
    "plotly.offline.init_notebook_mode(connected=True)\n"
   ]
  },
  {
   "cell_type": "code",
   "execution_count": 63,
   "metadata": {
    "collapsed": false
   },
   "outputs": [],
   "source": [
    "\n",
    "def run_sim(u, dt, z0):\n",
    "    \n",
    "    # initialize vectors\n",
    "    s = np.empty((u.shape[0], 14))\n",
    "    s[:] = np.nan  \n",
    "    e = np.empty((u.shape[0], 3))\n",
    "    e[:] = np.nan  \n",
    "\n",
    "    # define initial conditions\n",
    "    s[0, :] = np.zeros(14)\n",
    "    s[0, 2] = z0\n",
    "    s[0, 3] = 1.\n",
    "\n",
    "    # run sim\n",
    "    for i in range(1, u.shape[0]):\n",
    "        s[i, :] = drone.step_quadcopter(s[i-1, :], u[i-1, :], dt)\n",
    "        e[i, :] = quaternion.to_euler(s[i, 3:7])\n",
    "\n",
    "    return s, e\n",
    "\n",
    "\n",
    "def plot_result(t, s, e, title):\n",
    "          \n",
    "    data_1 = [\n",
    "        plotly.graph_objs.Scatter(x=t, y=s[:, 0].squeeze(), name=\"X\"),\n",
    "        plotly.graph_objs.Scatter(x=t, y=s[:, 1].squeeze(), name=\"Y\"),\n",
    "        plotly.graph_objs.Scatter(x=t, y=s[:, 2].squeeze(), name=\"Z\"),\n",
    "    ]\n",
    "    \n",
    "    data_2 = [\n",
    "        plotly.graph_objs.Scatter(x=t, y=e[:, 0].squeeze(), name=\"Roll\"),\n",
    "        plotly.graph_objs.Scatter(x=t, y=e[:, 1].squeeze(), name=\"Pitch\"),\n",
    "        plotly.graph_objs.Scatter(x=t, y=e[:, 2].squeeze(), name=\"Yaw\"),\n",
    "    ]\n",
    "    \n",
    "    data_3 = [\n",
    "        plotly.graph_objs.Scatter(x=t, y=s[:, 4].squeeze(), name=\"Q_i\"),\n",
    "        plotly.graph_objs.Scatter(x=t, y=s[:, 5].squeeze(), name=\"Q_j\"),\n",
    "        plotly.graph_objs.Scatter(x=t, y=s[:, 6].squeeze(), name=\"Q_k\"),\n",
    "    ]\n",
    "    \n",
    "    fig = plotly.subplots.make_subplots(rows=1, cols=3)\n",
    "    for d in data_1:\n",
    "        fig.add_trace(d, row=1, col=1)\n",
    "    for d in data_2:\n",
    "        fig.add_trace(d, row=1, col=2)\n",
    "    for d in data_3:\n",
    "        fig.add_trace(d, row=1, col=3)\n",
    "        \n",
    "    plotly.offline.plot(fig, filename=title + \".html\")\n"
   ]
  },
  {
   "cell_type": "heading",
   "metadata": {},
   "level": 1,
   "source": [
    "Pitch Test"
   ]
  },
  {
   "cell_type": "code",
   "execution_count": 64,
   "metadata": {
    "collapsed": false
   },
   "outputs": [],
   "source": [
    "\n",
    "# length and timestep of simulation\n",
    "n_samples = 500\n",
    "dt = 0.01\n",
    "t = np.arange(0, n_samples * dt, dt)\n",
    "\n",
    "# define input vector\n",
    "u = np.linspace(0, 6, n_samples).reshape(-1, 1) @ np.ones(4).reshape(1, -1)\n",
    "u = 3 * np.ones((n_samples, 4))\n",
    "u[3000:, :] = 0.\n",
    "\n",
    "# vary forward motors \n",
    "u[:, 0] = u[:, 0] + 0.05 * np.sin(2 * np.pi * t)\n",
    "u[:, 1] = u[:, 1] + 0.05 * np.sin(2 * np.pi * t)\n",
    "\n",
    "s, e = run_sim(u, dt, z0=5.)\n"
   ]
  },
  {
   "cell_type": "code",
   "execution_count": 65,
   "metadata": {},
   "outputs": [],
   "source": [
    "\n",
    "plot_result(t, s, e, \"pitch_test\")\n"
   ]
  },
  {
   "cell_type": "heading",
   "metadata": {},
   "level": 1,
   "source": [
    "Roll Test"
   ]
  },
  {
   "cell_type": "code",
   "execution_count": 66,
   "metadata": {},
   "outputs": [],
   "source": [
    "\n",
    "# length and timestep of simulation\n",
    "n_samples = 500\n",
    "dt = 0.01\n",
    "t = np.arange(0, n_samples * dt, dt)\n",
    "\n",
    "# define input vector\n",
    "u = np.linspace(0, 6, n_samples).reshape(-1, 1) @ np.ones(4).reshape(1, -1)\n",
    "u = 3 * np.ones((n_samples, 4))\n",
    "u[3000:, :] = 0.\n",
    "\n",
    "# vary left hand side motors \n",
    "u[:, 0] = u[:, 0] + 0.05 * np.sin(2 * np.pi * t)\n",
    "u[:, 2] = u[:, 2] + 0.05 * np.sin(2 * np.pi * t)\n",
    "\n",
    "s, e = run_sim(u, dt, z0=5.)\n"
   ]
  },
  {
   "cell_type": "code",
   "execution_count": 67,
   "metadata": {},
   "outputs": [],
   "source": [
    "\n",
    "plot_result(t, s, e, \"roll_test\")\n"
   ]
  },
  {
   "cell_type": "heading",
   "metadata": {},
   "level": 1,
   "source": [
    "Yaw Test"
   ]
  },
  {
   "cell_type": "code",
   "execution_count": 68,
   "metadata": {},
   "outputs": [],
   "source": [
    "\n",
    "# length and timestep of simulation\n",
    "n_samples = 500\n",
    "dt = 0.01\n",
    "t = np.arange(0, n_samples * dt, dt)\n",
    "\n",
    "# define input vector\n",
    "u = np.linspace(0, 6, n_samples).reshape(-1, 1) @ np.ones(4).reshape(1, -1)\n",
    "u = 3 * np.ones((n_samples, 4))\n",
    "u[3000:, :] = 0.\n",
    "\n",
    "# vary diagonal motors \n",
    "u[:, 0] = u[:, 0] + 0.05 * np.sin(2 * np.pi * t)\n",
    "u[:, 3] = u[:, 3] + 0.05 * np.sin(2 * np.pi * t)\n",
    "\n",
    "s, e = run_sim(u, dt, z0=5.)\n"
   ]
  },
  {
   "cell_type": "code",
   "execution_count": 69,
   "metadata": {},
   "outputs": [],
   "source": [
    "\n",
    "plot_result(t, s, e, \"yaw_test\")\n"
   ]
  },
  {
   "cell_type": "code",
   "execution_count": null,
   "metadata": {},
   "outputs": [],
   "source": []
  }
 ],
 "metadata": {
  "kernelspec": {
   "display_name": "Python 2",
   "language": "python",
   "name": "python2"
  },
  "language_info": {
   "codemirror_mode": {
    "name": "ipython",
    "version": 2
   },
   "file_extension": ".py",
   "mimetype": "text/x-python",
   "name": "python",
   "nbconvert_exporter": "python",
   "pygments_lexer": "ipython2",
   "version": "2.7.6"
  }
 },
 "nbformat": 4,
 "nbformat_minor": 0
}
