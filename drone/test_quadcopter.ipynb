{
 "cells": [
  {
   "cell_type": "code",
   "execution_count": 1,
   "metadata": {
    "collapsed": false
   },
   "outputs": [
    {
     "data": {
      "text/html": [
       "        <script type=\"text/javascript\">\n",
       "        window.PlotlyConfig = {MathJaxConfig: 'local'};\n",
       "        if (window.MathJax) {MathJax.Hub.Config({SVG: {font: \"STIX-Web\"}});}\n",
       "        if (typeof require !== 'undefined') {\n",
       "        require.undef(\"plotly\");\n",
       "        requirejs.config({\n",
       "            paths: {\n",
       "                'plotly': ['https://cdn.plot.ly/plotly-latest.min']\n",
       "            }\n",
       "        });\n",
       "        require(['plotly'], function(Plotly) {\n",
       "            window._Plotly = Plotly;\n",
       "        });\n",
       "        }\n",
       "        </script>\n",
       "        "
      ],
      "text/plain": [
       "        <script type=\"text/javascript\">\n",
       "        window.PlotlyConfig = {MathJaxConfig: 'local'};\n",
       "        if (window.MathJax) {MathJax.Hub.Config({SVG: {font: \"STIX-Web\"}});}\n",
       "        if (typeof require !== 'undefined') {\n",
       "        require.undef(\"plotly\");\n",
       "        requirejs.config({\n",
       "            paths: {\n",
       "                'plotly': ['https://cdn.plot.ly/plotly-latest.min']\n",
       "            }\n",
       "        });\n",
       "        require(['plotly'], function(Plotly) {\n",
       "            window._Plotly = Plotly;\n",
       "        });\n",
       "        }\n",
       "        </script>\n",
       "        "
      ]
     },
     "execution_count": 0,
     "metadata": {},
     "output_type": "execute_result"
    }
   ],
   "source": [
    "import numpy as np\n",
    "import drone\n",
    "import plotly\n",
    "import quaternion\n",
    "import control\n",
    "\n",
    "plotly.offline.init_notebook_mode(connected=True)\n"
   ]
  },
  {
   "cell_type": "code",
   "execution_count": 2,
   "metadata": {
    "collapsed": false
   },
   "outputs": [],
   "source": [
    "\n",
    "def run_sim(tgt, dt, z0, r_disturb=0.):\n",
    "    \n",
    "    # initialize vectors\n",
    "    s = np.empty((tgt.shape[0], 14))\n",
    "    s[:] = np.nan  \n",
    "    e = np.empty((tgt.shape[0], 3))\n",
    "    e[:] = np.nan  \n",
    "    u = np.empty((tgt.shape[0], 4))\n",
    "    u[:] = np.nan\n",
    "\n",
    "    # define initial conditions\n",
    "    s[0, :] = np.zeros(14)\n",
    "    s[0, 2] = z0\n",
    "    s[0, 3] = 1.\n",
    "    \n",
    "    motor_inv = drone.torque_motor_inv()\n",
    "    a, b, q, r, u_0 = drone.vertical_state_space()\n",
    "    k = control.lqr_gain(a, b, q, r)\n",
    "\n",
    "    # run sim\n",
    "    for i in range(1, tgt.shape[0]):\n",
    "        u[i, :] = control.update(s[i-1, :], tgt[i, :], k, motor_inv, u_0)\n",
    "        s[i, :] = drone.step(s[i-1, :], u[i, :], dt, r_disturb)\n",
    "        e[i, :] = quaternion.to_euler(s[i, 3:7])\n",
    "\n",
    "    return s, e, u\n",
    "\n",
    "\n",
    "def plot_result(t, s, e, u, title):\n",
    "          \n",
    "    data_1 = [\n",
    "        plotly.graph_objs.Scatter(x=t, y=s[:, 0].squeeze(), name=\"X\"),\n",
    "        plotly.graph_objs.Scatter(x=t, y=s[:, 1].squeeze(), name=\"Y\"),\n",
    "        plotly.graph_objs.Scatter(x=t, y=s[:, 2].squeeze(), name=\"Z\"),\n",
    "    ]\n",
    "    \n",
    "    data_2 = [\n",
    "        plotly.graph_objs.Scatter(x=t, y=e[:, 0].squeeze(), name=\"Roll\"),\n",
    "        plotly.graph_objs.Scatter(x=t, y=e[:, 1].squeeze(), name=\"Pitch\"),\n",
    "        plotly.graph_objs.Scatter(x=t, y=e[:, 2].squeeze(), name=\"Yaw\"),\n",
    "    ]\n",
    "    \n",
    "    data_3 = [\n",
    "        plotly.graph_objs.Scatter(x=t, y=s[:, 3].squeeze(), name=\"Q_r\"),\n",
    "        plotly.graph_objs.Scatter(x=t, y=s[:, 4].squeeze(), name=\"Q_i\"),\n",
    "        plotly.graph_objs.Scatter(x=t, y=s[:, 5].squeeze(), name=\"Q_j\"),\n",
    "        plotly.graph_objs.Scatter(x=t, y=s[:, 6].squeeze(), name=\"Q_k\"),\n",
    "    ]\n",
    "    \n",
    "    data_4 = [\n",
    "        plotly.graph_objs.Scatter(x=t, y=u[:, 0].squeeze(), name=\"F_Front\"),\n",
    "        plotly.graph_objs.Scatter(x=t, y=u[:, 1].squeeze(), name=\"F_Left\"),\n",
    "        plotly.graph_objs.Scatter(x=t, y=u[:, 2].squeeze(), name=\"F_Right\"),\n",
    "        plotly.graph_objs.Scatter(x=t, y=u[:, 3].squeeze(), name=\"F_Rear\"),\n",
    "    ]\n",
    "    \n",
    "    fig = plotly.subplots.make_subplots(\n",
    "        rows=1,\n",
    "        cols=4,\n",
    "        subplot_titles=(\"Position\", \"Rotation\", \"Quaternions\", \"Motors\"),\n",
    "    )\n",
    "    \n",
    "    for d in data_1:\n",
    "        fig.add_trace(d, row=1, col=1)\n",
    "        fig.update_xaxes(title_text=\"Time [s]\", row=1, col=1)\n",
    "    for d in data_2:\n",
    "        fig.add_trace(d, row=1, col=2)\n",
    "        fig.update_xaxes(title_text=\"Time [s]\", row=1, col=2)\n",
    "    for d in data_3:\n",
    "        fig.add_trace(d, row=1, col=3)\n",
    "        fig.update_xaxes(title_text=\"Time [s]\", row=1, col=3)\n",
    "    for d in data_4:\n",
    "        fig.add_trace(d, row=1, col=4)\n",
    "        fig.update_xaxes(title_text=\"Time [s]\", row=1, col=4)\n",
    "        \n",
    "    plotly.offline.plot(fig, filename=title + \".html\")\n"
   ]
  },
  {
   "cell_type": "code",
   "execution_count": 3,
   "metadata": {
    "collapsed": false
   },
   "outputs": [],
   "source": [
    "\n",
    "# length and timestep of simulations\n",
    "n_samples = 2000\n",
    "dt = 0.01\n",
    "t = np.arange(0, n_samples * dt, dt)\n",
    "\n",
    "# z target\n",
    "tgt = np.zeros((n_samples, 4))\n",
    "\n",
    "tgt[:, 0] = 0. * np.ones(n_samples)\n",
    "tgt[:, 1] = 0. * np.ones(n_samples)\n",
    "tgt[:, 2] = 5. * np.ones(n_samples)\n",
    "tgt[:, 3] = 1. * np.ones(n_samples)\n"
   ]
  },
  {
   "cell_type": "heading",
   "metadata": {
    "collapsed": false
   },
   "level": 1,
   "source": [
    "Height Test\n"
   ]
  },
  {
   "cell_type": "code",
   "execution_count": 4,
   "metadata": {
    "collapsed": true
   },
   "outputs": [],
   "source": [
    "\n",
    "# define input vector\n",
    "s_height, e_height, u_height = run_sim(tgt, dt, z0=5., r_disturb=1.0)\n",
    "plot_result(t, s_height, e_height, u_height, \"height_test\")\n"
   ]
  },
  {
   "cell_type": "heading",
   "metadata": {},
   "level": 1,
   "source": [
    "Pitch Test"
   ]
  },
  {
   "cell_type": "code",
   "execution_count": 10,
   "metadata": {
    "collapsed": false
   },
   "outputs": [],
   "source": [
    "\n",
    "# define input vector\n",
    "u = np.zeros((n_samples, 4))\n",
    "\n",
    "# vary forward motors \n",
    "u[:, 0] = u[:, 0] - 0.02 * np.sin(2 * np.pi * t)\n",
    "u[:, 3] = u[:, 3] + 0.02 * np.sin(2 * np.pi * t)\n",
    "\n",
    "s_pitch, e_pitch, u_pitch = run_sim(u, tgt, dt, z0=5.)\n"
   ]
  },
  {
   "cell_type": "heading",
   "metadata": {},
   "level": 1,
   "source": [
    "Roll Test"
   ]
  },
  {
   "cell_type": "code",
   "execution_count": 11,
   "metadata": {},
   "outputs": [],
   "source": [
    "\n",
    "# define input vector\n",
    "u = np.zeros((n_samples, 4))\n",
    "\n",
    "# vary forward motors \n",
    "u[:, 1] = u[:, 1] + 0.02 * np.sin(2 * np.pi * t)\n",
    "u[:, 2] = u[:, 2] - 0.02 * np.sin(2 * np.pi * t)\n",
    "\n",
    "s_roll, e_roll, u_roll = run_sim(u, tgt, dt, z0=5.)\n"
   ]
  },
  {
   "cell_type": "heading",
   "metadata": {},
   "level": 1,
   "source": [
    "Combined Roll Pitch Test\n"
   ]
  },
  {
   "cell_type": "code",
   "execution_count": 12,
   "metadata": {},
   "outputs": [],
   "source": [
    "\n",
    "# define input vector\n",
    "u = np.zeros((n_samples, 4))\n",
    "\n",
    "# vary forward motors \n",
    "u[:, 0] = u[:, 0] - 0.02 * np.sin(2 * np.pi * t)\n",
    "u[:, 1] = u[:, 1] + 0.02 * np.sin(2 * np.pi * t)\n",
    "u[:, 2] = u[:, 2] - 0.02 * np.sin(2 * np.pi * t)\n",
    "u[:, 3] = u[:, 3] + 0.02 * np.sin(2 * np.pi * t)\n",
    "\n",
    "s_pitch_roll, e_pitch_roll, u_pitch_roll = run_sim(u, tgt, dt, z0=5.)\n"
   ]
  },
  {
   "cell_type": "heading",
   "metadata": {},
   "level": 1,
   "source": [
    "Yaw Test"
   ]
  },
  {
   "cell_type": "code",
   "execution_count": 13,
   "metadata": {},
   "outputs": [],
   "source": [
    "\n",
    "# define input vector\n",
    "u = np.zeros((n_samples, 4))\n",
    "\n",
    "# vary diagonal motors \n",
    "u[:, 0] = u[:, 0] + 0.02 * np.sin(2 * np.pi * t)\n",
    "u[:, 1] = u[:, 1] - 0.02 * np.sin(2 * np.pi * t)\n",
    "u[:, 2] = u[:, 2] - 0.02 * np.sin(2 * np.pi * t)\n",
    "u[:, 3] = u[:, 3] + 0.02 * np.sin(2 * np.pi * t)\n",
    "\n",
    "s_yaw, e_yaw, u_yaw = run_sim(u, tgt, dt, z0=5.)\n"
   ]
  },
  {
   "cell_type": "code",
   "execution_count": 15,
   "metadata": {},
   "outputs": [],
   "source": [
    "\n",
    "plot_result(t, s_pitch, e_pitch, u_pitch, \"pitch_test\")\n",
    "plot_result(t, s_roll, e_roll, u_roll, \"roll_test\")\n",
    "plot_result(t, s_pitch_roll, e_pitch_roll, u_pitch_roll, \"pitch_roll_test\")\n",
    "plot_result(t, s_yaw, e_yaw, u_yaw, \"yaw_test\")\n"
   ]
  },
  {
   "cell_type": "code",
   "execution_count": 5,
   "metadata": {},
   "outputs": [
    {
     "data": {
      "text/plain": [
       "4.0"
      ]
     },
     "execution_count": 5,
     "metadata": {},
     "output_type": "execute_result"
    }
   ],
   "source": [
    "a = 5.\n",
    "\n",
    "np.minimum(5. , 4.)"
   ]
  },
  {
   "cell_type": "code",
   "execution_count": null,
   "metadata": {},
   "outputs": [],
   "source": []
  }
 ],
 "metadata": {
  "kernelspec": {
   "display_name": "Python 2",
   "language": "python",
   "name": "python2"
  },
  "language_info": {
   "codemirror_mode": {
    "name": "ipython",
    "version": 2
   },
   "file_extension": ".py",
   "mimetype": "text/x-python",
   "name": "python",
   "nbconvert_exporter": "python",
   "pygments_lexer": "ipython2",
   "version": "2.7.6"
  }
 },
 "nbformat": 4,
 "nbformat_minor": 0
}
